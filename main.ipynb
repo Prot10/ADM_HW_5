{
 "cells": [
  {
   "cell_type": "markdown",
   "source": [
    "# Homework 5 - The Marvel Universe!\n",
    "\n",
    "Superheroes and abilities have always existed in the human imagination. Marvel has one of the largest superhero comic book franchises. Famous superheroes, including Spider-Man, Iron Man, Captain America, and Thor, are among its cast, as are well-known superhero teams like the Avengers, X-Men, Fantastic Four, and Guardians of the Galaxy. Additionally, it has famous supervillains, including Doctor Doom, Magneto, Ultron, and Thanos, in its stable. Most of Marvel's fictional characters function in a single reality known as the Marvel Universe, with many of their headquarters located in New York City. These comics are well-known today because of their use in movies. If you do not know who we are talking about, [give this link a look](https://www.marvel.com/explore) and learn more about the characters.\n",
    "\n",
    "This time, you and your team have decided to dive deep into Marvel's social network. Now, you will deal with graphs to determine relevant characteristics and highlights from the relations among those superheroes.\n",
    "\n",
    "Let's hands-on this!\n",
    "\n",
    "# VERY VERY IMPORTANT!\n",
    "\n",
    "1. !!! Read the entire homework before coding anything!!!\n",
    "\n",
    "2. My solution it's not better than yours, and yours is not better than mine. In any data analysis task, there is not a unique way to solve a problem. For this reason, it is crucial (necessary and mandatory) that you describe any single decision you take and all the steps you do.\n",
    "\n",
    "3. Once performed any exercise, comments about the obtained results are mandatory. We are not always explicit about where to focus your comments, but we will always want brief sentences about your discoveries and decisions.\n",
    "\n",
    "In this Homework, you will explore the Marvel Comics Universe, exploring relations between heroes and villains in the comics!\n",
    "\n",
    "- __Backend__: where you need to develop efficient algorithms that define the functionalities of the system\n",
    "- __Frontend__: where you provide visualization for queries entered by the user\n",
    "\n",
    "__IMPORTANT:__ The main functions for each functionality should be written from scratch in the backend part. Nevertheless, you can use the data structures provided by networkx (such as closeness_centrality, betweenness_centrality, pagerank, or any other function that can help you as an intermediate step for your main functionalities).\n",
    "\n",
    "In the visualization part, you can use any available function (networkx functions are highly recommended).\n",
    "\n",
    "## 1. Data\n",
    "\n",
    "To get started, you have to download the data, as always, from [here](https://www.kaggle.com/datasets/csanhueza/the-marvel-universe-social-network?select=hero-network.csv). Make sure you downloaded all files because we will work with them all.\n",
    "\n",
    "In particular, the files contain the following:\n",
    "\n",
    "- __nodes.csv__ - Contains two columns (node, type), indicating the nodes' name and type (comic, hero).\n",
    "- __edges.csv__ - Contains two columns (hero, comic), indicating which comics the heroes appear in.\n",
    "- __hero-network.csv__ - Contains the network of heroes who have appeared together in the comics.\n",
    "\n",
    "### Graphs setup\n",
    "\n",
    "For this homework, we are going to build two different graphs:\n",
    "\n",
    "1. __First graph:__ Will be constructed using the data stored in the 'hero-network.csv' file, in which an edge between two heroes can be found if they have appeared in the same comic together. The number of edges between two heroes represents the number of times they have collaborated in different comics. The graph should be considered weighted and undirected. It is up to you to decide which metric to use to calculate the weights, but we anticipate that the cost will be lower for heroes with more collaborations. Please specify which metric you used to select the weights in the report.\n",
    "\n",
    "2. __Second graph:__ The data in 'nodes.csv' and 'edges.csv' will be used to construct the second graph. The type of node (hero/comic) can be found in 'nodes.csv', and an edge between a hero node and a comic node can be found in 'edges.csv' when the hero has appeared in that specific comic. This graph is assumed to be undirected and unweighted.\n",
    "\n",
    "### Data Preprocessing\n",
    "\n",
    "As always, in the data science area, you can find some inconsistencies in the provided data. Therefore, some modifications should be made to the data to make it consistent across all of the datasets you have. To ensure consistency in the data, keep the following in mind:\n",
    "\n",
    "1. Some of the heroes' names in 'hero-network.csv' are not found in 'edges.csv'. This inconsistency exists for the following reasons:\n",
    "- Some heroes' names in 'hero-netowrk.csv' have extra spaces at the end of their names compared to their names in 'edges.csv'.\n",
    "- Some heroes' names in 'hero-netowrk.csv' have an extra '/' at the end of their names compared to their names in 'edges.csv'.\n",
    "- The hero name 'SPIDER-MAN/PETER PARKER' in 'edges.csv' has been changed to 'SPIDER-MAN/PETER PAR' in 'hero-network.csv' due to a string length limit in 'hero-network.csv'.\n",
    "\n",
    "2. Some entries in the 'hero-network.csv' have the same hero in both columns. In the graph, these entries form a self-loop. Because a self-loop makes no sense in this network, you can safely remove those from the dataset.\n",
    "\n"
   ],
   "metadata": {
    "collapsed": false
   }
  },
  {
   "cell_type": "code",
   "execution_count": 1,
   "outputs": [],
   "source": [
    "import pandas as pd\n",
    "import networkx as nx\n",
    "import pickle"
   ],
   "metadata": {
    "collapsed": false
   }
  },
  {
   "cell_type": "markdown",
   "source": [
    "Upload the datasets"
   ],
   "metadata": {
    "collapsed": false
   }
  },
  {
   "cell_type": "code",
   "execution_count": 2,
   "outputs": [
    {
     "name": "stdout",
     "output_type": "stream",
     "text": [
      "(574467, 2)\n"
     ]
    },
    {
     "data": {
      "text/plain": "                  hero1                 hero2\n0         LITTLE, ABNER        PRINCESS ZANDA\n1         LITTLE, ABNER  BLACK PANTHER/T'CHAL\n2  BLACK PANTHER/T'CHAL        PRINCESS ZANDA\n3         LITTLE, ABNER        PRINCESS ZANDA\n4         LITTLE, ABNER  BLACK PANTHER/T'CHAL",
      "text/html": "<div>\n<style scoped>\n    .dataframe tbody tr th:only-of-type {\n        vertical-align: middle;\n    }\n\n    .dataframe tbody tr th {\n        vertical-align: top;\n    }\n\n    .dataframe thead th {\n        text-align: right;\n    }\n</style>\n<table border=\"1\" class=\"dataframe\">\n  <thead>\n    <tr style=\"text-align: right;\">\n      <th></th>\n      <th>hero1</th>\n      <th>hero2</th>\n    </tr>\n  </thead>\n  <tbody>\n    <tr>\n      <th>0</th>\n      <td>LITTLE, ABNER</td>\n      <td>PRINCESS ZANDA</td>\n    </tr>\n    <tr>\n      <th>1</th>\n      <td>LITTLE, ABNER</td>\n      <td>BLACK PANTHER/T'CHAL</td>\n    </tr>\n    <tr>\n      <th>2</th>\n      <td>BLACK PANTHER/T'CHAL</td>\n      <td>PRINCESS ZANDA</td>\n    </tr>\n    <tr>\n      <th>3</th>\n      <td>LITTLE, ABNER</td>\n      <td>PRINCESS ZANDA</td>\n    </tr>\n    <tr>\n      <th>4</th>\n      <td>LITTLE, ABNER</td>\n      <td>BLACK PANTHER/T'CHAL</td>\n    </tr>\n  </tbody>\n</table>\n</div>"
     },
     "metadata": {},
     "output_type": "display_data"
    }
   ],
   "source": [
    "# Contains the network of heroes who have appeared together in the comics.\n",
    "df_hero = pd.read_csv('hero-network.csv')\n",
    "print(df_hero.shape)\n",
    "display(df_hero.head())"
   ],
   "metadata": {
    "collapsed": false
   }
  },
  {
   "cell_type": "code",
   "execution_count": 3,
   "outputs": [
    {
     "name": "stdout",
     "output_type": "stream",
     "text": [
      "(96104, 2)\n"
     ]
    },
    {
     "data": {
      "text/plain": "                   hero   comic\n0  24-HOUR MAN/EMMANUEL  AA2 35\n1  3-D MAN/CHARLES CHAN   AVF 4\n2  3-D MAN/CHARLES CHAN   AVF 5\n3  3-D MAN/CHARLES CHAN   COC 1\n4  3-D MAN/CHARLES CHAN  H2 251",
      "text/html": "<div>\n<style scoped>\n    .dataframe tbody tr th:only-of-type {\n        vertical-align: middle;\n    }\n\n    .dataframe tbody tr th {\n        vertical-align: top;\n    }\n\n    .dataframe thead th {\n        text-align: right;\n    }\n</style>\n<table border=\"1\" class=\"dataframe\">\n  <thead>\n    <tr style=\"text-align: right;\">\n      <th></th>\n      <th>hero</th>\n      <th>comic</th>\n    </tr>\n  </thead>\n  <tbody>\n    <tr>\n      <th>0</th>\n      <td>24-HOUR MAN/EMMANUEL</td>\n      <td>AA2 35</td>\n    </tr>\n    <tr>\n      <th>1</th>\n      <td>3-D MAN/CHARLES CHAN</td>\n      <td>AVF 4</td>\n    </tr>\n    <tr>\n      <th>2</th>\n      <td>3-D MAN/CHARLES CHAN</td>\n      <td>AVF 5</td>\n    </tr>\n    <tr>\n      <th>3</th>\n      <td>3-D MAN/CHARLES CHAN</td>\n      <td>COC 1</td>\n    </tr>\n    <tr>\n      <th>4</th>\n      <td>3-D MAN/CHARLES CHAN</td>\n      <td>H2 251</td>\n    </tr>\n  </tbody>\n</table>\n</div>"
     },
     "metadata": {},
     "output_type": "display_data"
    }
   ],
   "source": [
    "# Contains two columns (hero, comic), indicating which comics the heroes appear in.\n",
    "df_edges = pd.read_csv('edges.csv')\n",
    "print(df_edges.shape)\n",
    "display(df_edges.head())"
   ],
   "metadata": {
    "collapsed": false
   }
  },
  {
   "cell_type": "code",
   "execution_count": 4,
   "outputs": [
    {
     "name": "stdout",
     "output_type": "stream",
     "text": [
      "(19090, 2)\n"
     ]
    },
    {
     "data": {
      "text/plain": "                   node   type\n0               2001 10  comic\n1                2001 8  comic\n2                2001 9  comic\n3  24-HOUR MAN/EMMANUEL   hero\n4  3-D MAN/CHARLES CHAN   hero",
      "text/html": "<div>\n<style scoped>\n    .dataframe tbody tr th:only-of-type {\n        vertical-align: middle;\n    }\n\n    .dataframe tbody tr th {\n        vertical-align: top;\n    }\n\n    .dataframe thead th {\n        text-align: right;\n    }\n</style>\n<table border=\"1\" class=\"dataframe\">\n  <thead>\n    <tr style=\"text-align: right;\">\n      <th></th>\n      <th>node</th>\n      <th>type</th>\n    </tr>\n  </thead>\n  <tbody>\n    <tr>\n      <th>0</th>\n      <td>2001 10</td>\n      <td>comic</td>\n    </tr>\n    <tr>\n      <th>1</th>\n      <td>2001 8</td>\n      <td>comic</td>\n    </tr>\n    <tr>\n      <th>2</th>\n      <td>2001 9</td>\n      <td>comic</td>\n    </tr>\n    <tr>\n      <th>3</th>\n      <td>24-HOUR MAN/EMMANUEL</td>\n      <td>hero</td>\n    </tr>\n    <tr>\n      <th>4</th>\n      <td>3-D MAN/CHARLES CHAN</td>\n      <td>hero</td>\n    </tr>\n  </tbody>\n</table>\n</div>"
     },
     "metadata": {},
     "output_type": "display_data"
    }
   ],
   "source": [
    "# Contains two columns (node, type), indicating the nodes' name and type (comic, hero).\n",
    "df_nodes = pd.read_csv('nodes.csv')\n",
    "print(df_nodes.shape)\n",
    "display(df_nodes.head())"
   ],
   "metadata": {
    "collapsed": false
   }
  },
  {
   "cell_type": "markdown",
   "source": [
    "#### Preprocessing\n",
    "\n",
    "Remove any trailing spaces or '/' in the names:"
   ],
   "metadata": {
    "collapsed": false
   }
  },
  {
   "cell_type": "code",
   "execution_count": 5,
   "outputs": [
    {
     "name": "stdout",
     "output_type": "stream",
     "text": [
      "hero1    6211\n",
      "hero2    6173\n",
      "dtype: int64\n",
      "hero1    6206\n",
      "hero2    6169\n",
      "dtype: int64\n"
     ]
    }
   ],
   "source": [
    "print(df_hero.nunique())\n",
    "df_hero[\"hero1\"] = df_hero[\"hero1\"].apply(lambda x: x.rstrip('/ '))\n",
    "df_hero[\"hero2\"] = df_hero[\"hero2\"].apply(lambda x: x.rstrip('/ '))\n",
    "print(df_hero.nunique())"
   ],
   "metadata": {
    "collapsed": false
   }
  },
  {
   "cell_type": "markdown",
   "source": [
    "Adjust Spiderman's name to make it consistent with other datasets:\n",
    "\n",
    "- Visualize and see how many there are for column 'hero1':"
   ],
   "metadata": {
    "collapsed": false
   }
  },
  {
   "cell_type": "code",
   "execution_count": 6,
   "outputs": [
    {
     "name": "stdout",
     "output_type": "stream",
     "text": [
      "(6652, 2)\n"
     ]
    },
    {
     "data": {
      "text/plain": "                    hero1                 hero2\n398  SPIDER-MAN/PETER PAR  FIRESTAR/ANGELICA JO\n399  SPIDER-MAN/PETER PAR  THUNDERBALL/DR. ELIO\n400  SPIDER-MAN/PETER PAR  NAMORITA/NITA PRENTI\n401  SPIDER-MAN/PETER PAR  SPEEDBALL/ROBBIE BAL\n402  SPIDER-MAN/PETER PAR  HULK/DR. ROBERT BRUC",
      "text/html": "<div>\n<style scoped>\n    .dataframe tbody tr th:only-of-type {\n        vertical-align: middle;\n    }\n\n    .dataframe tbody tr th {\n        vertical-align: top;\n    }\n\n    .dataframe thead th {\n        text-align: right;\n    }\n</style>\n<table border=\"1\" class=\"dataframe\">\n  <thead>\n    <tr style=\"text-align: right;\">\n      <th></th>\n      <th>hero1</th>\n      <th>hero2</th>\n    </tr>\n  </thead>\n  <tbody>\n    <tr>\n      <th>398</th>\n      <td>SPIDER-MAN/PETER PAR</td>\n      <td>FIRESTAR/ANGELICA JO</td>\n    </tr>\n    <tr>\n      <th>399</th>\n      <td>SPIDER-MAN/PETER PAR</td>\n      <td>THUNDERBALL/DR. ELIO</td>\n    </tr>\n    <tr>\n      <th>400</th>\n      <td>SPIDER-MAN/PETER PAR</td>\n      <td>NAMORITA/NITA PRENTI</td>\n    </tr>\n    <tr>\n      <th>401</th>\n      <td>SPIDER-MAN/PETER PAR</td>\n      <td>SPEEDBALL/ROBBIE BAL</td>\n    </tr>\n    <tr>\n      <th>402</th>\n      <td>SPIDER-MAN/PETER PAR</td>\n      <td>HULK/DR. ROBERT BRUC</td>\n    </tr>\n  </tbody>\n</table>\n</div>"
     },
     "metadata": {},
     "output_type": "display_data"
    }
   ],
   "source": [
    "print(df_hero[df_hero[\"hero1\"]=='SPIDER-MAN/PETER PAR'].shape)\n",
    "display(df_hero[df_hero[\"hero1\"]=='SPIDER-MAN/PETER PAR'].head())"
   ],
   "metadata": {
    "collapsed": false
   }
  },
  {
   "cell_type": "markdown",
   "source": [
    "- Change the name and check that the rows with the old name are 0:"
   ],
   "metadata": {
    "collapsed": false
   }
  },
  {
   "cell_type": "code",
   "execution_count": 7,
   "outputs": [
    {
     "name": "stdout",
     "output_type": "stream",
     "text": [
      "(0, 2)\n"
     ]
    }
   ],
   "source": [
    "df_hero.hero1[df_hero[\"hero1\"]=='SPIDER-MAN/PETER PAR'] = 'SPIDER-MAN/PETER PARKER'\n",
    "print(df_hero[df_hero[\"hero1\"]=='SPIDER-MAN/PETER PAR'].shape)"
   ],
   "metadata": {
    "collapsed": false
   }
  },
  {
   "cell_type": "markdown",
   "source": [
    "- Check that the lines with the new name are the same number as the starting ones and display them:"
   ],
   "metadata": {
    "collapsed": false
   }
  },
  {
   "cell_type": "code",
   "execution_count": 8,
   "outputs": [
    {
     "name": "stdout",
     "output_type": "stream",
     "text": [
      "(6652, 2)\n"
     ]
    },
    {
     "data": {
      "text/plain": "                       hero1                 hero2\n398  SPIDER-MAN/PETER PARKER  FIRESTAR/ANGELICA JO\n399  SPIDER-MAN/PETER PARKER  THUNDERBALL/DR. ELIO\n400  SPIDER-MAN/PETER PARKER  NAMORITA/NITA PRENTI\n401  SPIDER-MAN/PETER PARKER  SPEEDBALL/ROBBIE BAL\n402  SPIDER-MAN/PETER PARKER  HULK/DR. ROBERT BRUC",
      "text/html": "<div>\n<style scoped>\n    .dataframe tbody tr th:only-of-type {\n        vertical-align: middle;\n    }\n\n    .dataframe tbody tr th {\n        vertical-align: top;\n    }\n\n    .dataframe thead th {\n        text-align: right;\n    }\n</style>\n<table border=\"1\" class=\"dataframe\">\n  <thead>\n    <tr style=\"text-align: right;\">\n      <th></th>\n      <th>hero1</th>\n      <th>hero2</th>\n    </tr>\n  </thead>\n  <tbody>\n    <tr>\n      <th>398</th>\n      <td>SPIDER-MAN/PETER PARKER</td>\n      <td>FIRESTAR/ANGELICA JO</td>\n    </tr>\n    <tr>\n      <th>399</th>\n      <td>SPIDER-MAN/PETER PARKER</td>\n      <td>THUNDERBALL/DR. ELIO</td>\n    </tr>\n    <tr>\n      <th>400</th>\n      <td>SPIDER-MAN/PETER PARKER</td>\n      <td>NAMORITA/NITA PRENTI</td>\n    </tr>\n    <tr>\n      <th>401</th>\n      <td>SPIDER-MAN/PETER PARKER</td>\n      <td>SPEEDBALL/ROBBIE BAL</td>\n    </tr>\n    <tr>\n      <th>402</th>\n      <td>SPIDER-MAN/PETER PARKER</td>\n      <td>HULK/DR. ROBERT BRUC</td>\n    </tr>\n  </tbody>\n</table>\n</div>"
     },
     "metadata": {},
     "output_type": "display_data"
    }
   ],
   "source": [
    "print(df_hero[df_hero[\"hero1\"]=='SPIDER-MAN/PETER PARKER'].shape)\n",
    "display(df_hero[df_hero[\"hero1\"]=='SPIDER-MAN/PETER PARKER'].head())"
   ],
   "metadata": {
    "collapsed": false
   }
  },
  {
   "cell_type": "markdown",
   "source": [
    "- Repeat the steps for the 'hero2' column"
   ],
   "metadata": {
    "collapsed": false
   }
  },
  {
   "cell_type": "code",
   "execution_count": 9,
   "outputs": [
    {
     "name": "stdout",
     "output_type": "stream",
     "text": [
      "(7065, 2)\n"
     ]
    },
    {
     "data": {
      "text/plain": "                   hero1                    hero2\n397   NOVA/RICHARD RIDER  SPIDER-MAN/PETER PARKER\n1505         STACY, PAUL  SPIDER-MAN/PETER PARKER\n1510         STACY, JILL  SPIDER-MAN/PETER PARKER\n1514       STACY, ARTHUR  SPIDER-MAN/PETER PARKER\n1517         PARKER, MAY  SPIDER-MAN/PETER PARKER",
      "text/html": "<div>\n<style scoped>\n    .dataframe tbody tr th:only-of-type {\n        vertical-align: middle;\n    }\n\n    .dataframe tbody tr th {\n        vertical-align: top;\n    }\n\n    .dataframe thead th {\n        text-align: right;\n    }\n</style>\n<table border=\"1\" class=\"dataframe\">\n  <thead>\n    <tr style=\"text-align: right;\">\n      <th></th>\n      <th>hero1</th>\n      <th>hero2</th>\n    </tr>\n  </thead>\n  <tbody>\n    <tr>\n      <th>397</th>\n      <td>NOVA/RICHARD RIDER</td>\n      <td>SPIDER-MAN/PETER PARKER</td>\n    </tr>\n    <tr>\n      <th>1505</th>\n      <td>STACY, PAUL</td>\n      <td>SPIDER-MAN/PETER PARKER</td>\n    </tr>\n    <tr>\n      <th>1510</th>\n      <td>STACY, JILL</td>\n      <td>SPIDER-MAN/PETER PARKER</td>\n    </tr>\n    <tr>\n      <th>1514</th>\n      <td>STACY, ARTHUR</td>\n      <td>SPIDER-MAN/PETER PARKER</td>\n    </tr>\n    <tr>\n      <th>1517</th>\n      <td>PARKER, MAY</td>\n      <td>SPIDER-MAN/PETER PARKER</td>\n    </tr>\n  </tbody>\n</table>\n</div>"
     },
     "metadata": {},
     "output_type": "display_data"
    }
   ],
   "source": [
    "df_hero.hero2[df_hero[\"hero2\"]=='SPIDER-MAN/PETER PAR'] = 'SPIDER-MAN/PETER PARKER'\n",
    "print(df_hero[df_hero[\"hero2\"]=='SPIDER-MAN/PETER PARKER'].shape)\n",
    "display(df_hero[df_hero[\"hero2\"]=='SPIDER-MAN/PETER PARKER'].head())"
   ],
   "metadata": {
    "collapsed": false
   }
  },
  {
   "cell_type": "markdown",
   "source": [
    "#### Create the first Graph\n",
    "\n",
    "- As a first step add a column called 'weight' which is calculated as the inverse of the number of links between one node and another:\n"
   ],
   "metadata": {
    "collapsed": false
   }
  },
  {
   "cell_type": "code",
   "execution_count": 10,
   "outputs": [
    {
     "name": "stdout",
     "output_type": "stream",
     "text": [
      "(574467, 3)\n"
     ]
    },
    {
     "data": {
      "text/plain": "                  hero1                 hero2  weight\n0         LITTLE, ABNER        PRINCESS ZANDA    0.20\n1         LITTLE, ABNER  BLACK PANTHER/T'CHAL    0.25\n2  BLACK PANTHER/T'CHAL        PRINCESS ZANDA    0.25\n3         LITTLE, ABNER        PRINCESS ZANDA    0.20\n4         LITTLE, ABNER  BLACK PANTHER/T'CHAL    0.25",
      "text/html": "<div>\n<style scoped>\n    .dataframe tbody tr th:only-of-type {\n        vertical-align: middle;\n    }\n\n    .dataframe tbody tr th {\n        vertical-align: top;\n    }\n\n    .dataframe thead th {\n        text-align: right;\n    }\n</style>\n<table border=\"1\" class=\"dataframe\">\n  <thead>\n    <tr style=\"text-align: right;\">\n      <th></th>\n      <th>hero1</th>\n      <th>hero2</th>\n      <th>weight</th>\n    </tr>\n  </thead>\n  <tbody>\n    <tr>\n      <th>0</th>\n      <td>LITTLE, ABNER</td>\n      <td>PRINCESS ZANDA</td>\n      <td>0.20</td>\n    </tr>\n    <tr>\n      <th>1</th>\n      <td>LITTLE, ABNER</td>\n      <td>BLACK PANTHER/T'CHAL</td>\n      <td>0.25</td>\n    </tr>\n    <tr>\n      <th>2</th>\n      <td>BLACK PANTHER/T'CHAL</td>\n      <td>PRINCESS ZANDA</td>\n      <td>0.25</td>\n    </tr>\n    <tr>\n      <th>3</th>\n      <td>LITTLE, ABNER</td>\n      <td>PRINCESS ZANDA</td>\n      <td>0.20</td>\n    </tr>\n    <tr>\n      <th>4</th>\n      <td>LITTLE, ABNER</td>\n      <td>BLACK PANTHER/T'CHAL</td>\n      <td>0.25</td>\n    </tr>\n  </tbody>\n</table>\n</div>"
     },
     "metadata": {},
     "output_type": "display_data"
    }
   ],
   "source": [
    "df_hero[\"weight\"] = df_hero.groupby([\"hero1\", \"hero2\"])['hero2'].transform(lambda x: 1/x.count())\n",
    "print(df_hero.shape)\n",
    "display(df_hero.head())"
   ],
   "metadata": {
    "collapsed": false
   }
  },
  {
   "cell_type": "markdown",
   "source": [
    "- Create the graph using 'MultiGraph' to have it indirect:"
   ],
   "metadata": {
    "collapsed": false
   }
  },
  {
   "cell_type": "code",
   "execution_count": 11,
   "outputs": [],
   "source": [
    "G1 = nx.from_pandas_edgelist(df_hero, \"hero1\", \"hero2\", \"weight\", create_using=nx.MultiGraph())"
   ],
   "metadata": {
    "collapsed": false
   }
  },
  {
   "cell_type": "markdown",
   "source": [
    "- Display the number of nodes and the number of edges of the created graph:"
   ],
   "metadata": {
    "collapsed": false
   }
  },
  {
   "cell_type": "code",
   "execution_count": 12,
   "outputs": [
    {
     "name": "stdout",
     "output_type": "stream",
     "text": [
      "Number of nodes: 6421\n",
      "Number of edges: 574467\n"
     ]
    }
   ],
   "source": [
    "print(f'Number of nodes: {G1.number_of_nodes()}')\n",
    "print(f'Number of edges: {G1.number_of_edges()}')"
   ],
   "metadata": {
    "collapsed": false
   }
  },
  {
   "cell_type": "markdown",
   "source": [
    "- Save the graph created with pickle:\n"
   ],
   "metadata": {
    "collapsed": false
   }
  },
  {
   "cell_type": "code",
   "execution_count": 13,
   "outputs": [],
   "source": [
    "with open(\"G1.pkl\", \"wb\") as file:\n",
    "    pickle.dump(G1, file)\n",
    "# per rileggerlo\n",
    "#with open(\"G1.pkl\", \"rb\") as file:\n",
    "#    G1 = pickle.load(file)"
   ],
   "metadata": {
    "collapsed": false
   }
  },
  {
   "cell_type": "markdown",
   "source": [
    "#### Create the second graph\n",
    "\n",
    "- Add the nodes to the Graph"
   ],
   "metadata": {
    "collapsed": false
   }
  },
  {
   "cell_type": "code",
   "execution_count": 14,
   "outputs": [],
   "source": [
    "G2 = nx.from_pandas_edgelist(df_edges, \"hero\", \"comic\", create_using=nx.MultiGraph())"
   ],
   "metadata": {
    "collapsed": false
   }
  },
  {
   "cell_type": "markdown",
   "source": [
    "- Add the nodes and their attributes to the graph:\n"
   ],
   "metadata": {
    "collapsed": false
   }
  },
  {
   "cell_type": "code",
   "execution_count": 15,
   "outputs": [],
   "source": [
    "G2.add_nodes_from(df_nodes[\"node\"], type=df_nodes[\"type\"])"
   ],
   "metadata": {
    "collapsed": false
   }
  },
  {
   "cell_type": "markdown",
   "source": [
    "- Display the number of nodes and the number of edges of the created graph:"
   ],
   "metadata": {
    "collapsed": false
   }
  },
  {
   "cell_type": "code",
   "execution_count": 16,
   "outputs": [
    {
     "name": "stdout",
     "output_type": "stream",
     "text": [
      "Number of nodes: 19091\n",
      "Number of edges: 96104\n"
     ]
    }
   ],
   "source": [
    "print(f'Number of nodes: {G2.number_of_nodes()}')\n",
    "print(f'Number of edges: {G2.number_of_edges()}')"
   ],
   "metadata": {
    "collapsed": false
   }
  },
  {
   "cell_type": "markdown",
   "source": [
    "- Save the graph created with pickle:\n"
   ],
   "metadata": {
    "collapsed": false
   }
  },
  {
   "cell_type": "code",
   "execution_count": 17,
   "outputs": [],
   "source": [
    "with open(\"G2.pkl\", \"wb\") as file:\n",
    "    pickle.dump(G2, file)\n",
    "# per rileggerlo\n",
    "#with open(\"G2.pkl\", \"rb\") as file:\n",
    "#    G2 = pickle.load(file)"
   ],
   "metadata": {
    "collapsed": false
   }
  },
  {
   "cell_type": "markdown",
   "source": [
    "## 2. Backend Implementation\n",
    "\n",
    "The goal of this part is the implementation of a controller system that has different functionalities. The controller should take as input an identifier \"i\" and run the associated function_i applied to the graph you create from the downloaded data.\n",
    "\n",
    "__Definition:__ As the number of nodes and edges grows, we may request to work on a subset of the data to reduce computation time and improve network visualization. In this case, we will ask you only to consider the data for __top N heros__. We define the top N heroes as follows:\n",
    "\n",
    "- __Top N heroes:__ The top N heroes who have appeared in the most number of comics. The 'edges.csv' file, which represents the comics in which each hero has appeared, can be used to filter these N heroes.\n",
    "\n",
    "__Note:__ When the value of N is not set by the user, the function should consider the whole data.\n",
    "\n",
    "### Functionality 1 - extract the graph's features\n",
    "\n",
    "Input:\n",
    "\n",
    "- The graph data\n",
    "- The graph type (ex., number 1 or number 2)\n",
    "- N: denoting the top N heroes that their data should be considered\n",
    "\n",
    "Output:\n",
    "\n",
    "- The number of nodes in the network (if type 2, report for both node types)\n",
    "- The number of collaborations of each superhero with the others (only if type 1)\n",
    "- The number of heroes that have appeared in each comic (only if type 2)\n",
    "- The network's density\n",
    "- The network's degree distribution\n",
    "- The average degree of the network\n",
    "- The network's Hubs (hubs are nodes having degrees more extensive than the 95th percentile of the degree distribution)\n",
    "- Whether the Network is sparse or dense\n",
    "\n",
    "__Note:__ For this case, it makes sense to differentiate operations between the two graphs: for example, when computing hubs for the second graph, we likely care only about comics.\n"
   ],
   "metadata": {
    "collapsed": false
   }
  },
  {
   "cell_type": "code",
   "execution_count": null,
   "outputs": [],
   "source": [],
   "metadata": {
    "collapsed": false
   }
  },
  {
   "cell_type": "markdown",
   "source": [
    "### Functionality 2 - Find top superheroes!\n",
    "\n",
    "Input:\n",
    "\n",
    "- The graph data\n",
    "- A node (hero or comic)\n",
    "- One of the given metrics : Betweeness 1, PageRank, ClosenessCentrality 3, DegreeCentrality\n",
    "- N: denoting the top N heroes that their data should be considered\n",
    "\n",
    "- Output:\n",
    "\n",
    "- The metric's value over the considered graph\n",
    "- The given node's value\n",
    "\n",
    "__Note:__ Give an explanation regarding the features of the user based on all of the metrics (e.g. if the betweenness metric is high, what does this mean in practice, what if the betweenness is low but has a high PageRank value, etc.)."
   ],
   "metadata": {
    "collapsed": false
   }
  },
  {
   "cell_type": "code",
   "execution_count": null,
   "outputs": [],
   "source": [],
   "metadata": {
    "collapsed": false
   }
  },
  {
   "cell_type": "markdown",
   "source": [
    "### Functionality 3 - Shortest ordered Route\n",
    "\n",
    "Input:\n",
    "\n",
    "- The graph data\n",
    "- A sequence of superheroes h = [h_2, ..., h_n-1]\n",
    "- Initial node h_1 and an end node h_n\n",
    "- N: denoting the top N heroes that their data should be considered\n",
    "\n",
    "Output:\n",
    "\n",
    "- The shortest walk of comics that you need to read to get from hero_1 to hero_n\n",
    "\n",
    "Considerations: For this functionality, you need to implement an algorithm that returns the shortest __walk__ that goes from node h_j to h_n, which visits __in order__ the nodes in h. The choice of h_j and h_n can be made randomly (or if it improves the performance of the algorithm, you can also define it in any other way)\n",
    "\n",
    "__Important Notes:__\n",
    "\n",
    "- This algorithm should be run only on the second graph.\n",
    "- The algorithm needs to handle the case that the graph is not connected. Thus, only some of the nodes in h are reachable from h_1. In such a scenario, it is enough to let the program give in the output the string \"There is no such path\".\n",
    "- Since we are dealing with walks, you can pass on the same node h_i more than once, but you have to preserve order. E.g., if you start from __Spiderman__ to reach __deadpool__, and your path requires you to visit __iron-man__ and __colossus__, you can go back to any comics any time you want, assuming that the order in which you visit the heroes is still the same."
   ],
   "metadata": {
    "collapsed": false
   }
  },
  {
   "cell_type": "code",
   "execution_count": null,
   "outputs": [],
   "source": [],
   "metadata": {
    "collapsed": false
   }
  },
  {
   "cell_type": "markdown",
   "source": [
    "### Functionality 4 - Disconnecting Graphs\n",
    "\n",
    "Input:\n",
    "\n",
    "- The graph data\n",
    "- heroA: a superhero to which will relate sub-graph G_a\n",
    "- heroB: a superhero to which will relate sub-graph G_b\n",
    "- N: denoting the top N heroes that their data should be considered\n",
    "\n",
    "Output:\n",
    "\n",
    "- The minimum number of links (by considering their weights) required to disconnect the original graph in two disconnected subgraphs: G_a and G_b.\n"
   ],
   "metadata": {
    "collapsed": false
   }
  },
  {
   "cell_type": "code",
   "execution_count": null,
   "outputs": [],
   "source": [],
   "metadata": {
    "collapsed": false
   }
  },
  {
   "cell_type": "markdown",
   "source": [
    "### Functionality 5 - Extracting Communities\n",
    "\n",
    "Input:\n",
    "\n",
    "- The graph data\n",
    "- N: denoting the top N heroes that their data should be considered\n",
    "- Hero_1: denoting the name of one of the heroes\n",
    "- Hero_2: denoting the name of one of the heroes\n",
    "\n",
    "Output:\n",
    "\n",
    "- The minimum number of edges that should be removed to form communities\n",
    "- A list of communities, each containing a list of heroes that belong to them.\n",
    "- If the Hero_1 and Hero_2 belongs to the same community\n",
    "\n",
    "Important Notes:\n",
    "This functionality should only be run on the first graph.\n",
    "To comprehend this functionality better, we suggest you take a good look at this [article](https://www.analyticsvidhya.com/blog/2020/04/community-detection-graphs-networks/)"
   ],
   "metadata": {
    "collapsed": false
   }
  },
  {
   "cell_type": "code",
   "execution_count": null,
   "outputs": [],
   "source": [],
   "metadata": {
    "collapsed": false
   }
  },
  {
   "cell_type": "markdown",
   "source": [
    "## 3. Frontend Implementation\n",
    "\n",
    "In this section, we ask you to build the visualizations for users' query results. We also expect you to showcase plots that can give us the most insight possible and comment accordingly.\n",
    "\n",
    "### Visualization 1 - Visualize some features of the network\n",
    "\n",
    "We anticipate seeing the Functionality 1 report in Visualization 1. To be more specific, we expect you to have the following report format:\n",
    "\n",
    "- A table containing the following general information about the graph:\n",
    "    - Number of nodes in the network\n",
    "    - Density of the network\n",
    "    - Average degree of the network\n",
    "    - Whether the network is sparse or dense\n",
    "- A table that lists the network's hubs\n",
    "- A plot depicting the number of collaborations of each hero in descending order (if the graph is type 1)\n",
    "- A plot depicting the number of heroes who appeared in each comic, sorted in descending order (if the graph is type 2)\n",
    "- A plot depicting the degree distribution of the network\n",
    "\n",
    "__Note:__ You can do the plot on a limited number of heroes/comic books to have a better visualization for the charts that ask for some insights about all of the comics/heroes (e.g. for the first 50)\n"
   ],
   "metadata": {
    "collapsed": false
   }
  },
  {
   "cell_type": "code",
   "execution_count": null,
   "outputs": [],
   "source": [],
   "metadata": {
    "collapsed": false
   }
  },
  {
   "cell_type": "markdown",
   "source": [
    "### Visualization 2 - Visualize centrality measure\n",
    "\n",
    "We anticipate seeing the Functionality 2 report in Visualization 2. To be more specific, we expect you to have the following report format:\n",
    "\n",
    "- A table containing the information related to the requested centrality measure for:\n",
    "    - The average of the requested centrality measure for all of the network's nodes\n",
    "    - The requested centrality measure's value for the given node"
   ],
   "metadata": {
    "collapsed": false
   }
  },
  {
   "cell_type": "code",
   "execution_count": null,
   "outputs": [],
   "source": [],
   "metadata": {
    "collapsed": false
   }
  },
  {
   "cell_type": "markdown",
   "source": [
    "### Visualization 3 - Visualize the shortest-ordered route\n",
    "\n",
    "We anticipate seeing the Functionality 3 report in Visualization 3. To be more specific, we expect you to have the following report format:\n",
    "\n",
    "- Print the comics in the shortest walk in order\n",
    "- Plot the graph and identify the nodes and edges that appear in the shortest walk (please put an identifier on each edge in the shortest walk to determine the order that we should have the walk)"
   ],
   "metadata": {
    "collapsed": false
   }
  },
  {
   "cell_type": "code",
   "execution_count": null,
   "outputs": [],
   "source": [],
   "metadata": {
    "collapsed": false
   }
  },
  {
   "cell_type": "markdown",
   "source": [
    "### Visualization 4 - Visualize the disconnected graph\n",
    "\n",
    "We anticipate seeing the Functionality 4 report in Visualization 4. To be more specific, we expect you to have the following report format:\n",
    "\n",
    "- Print the number of the links that should be disconnected\n",
    "- Plot the original graph\n",
    "- Plot the graph after removing the links and identify the two nodes\n"
   ],
   "metadata": {
    "collapsed": false
   }
  },
  {
   "cell_type": "code",
   "execution_count": null,
   "outputs": [],
   "source": [],
   "metadata": {
    "collapsed": false,
    "pycharm": {
     "is_executing": true
    }
   }
  },
  {
   "cell_type": "markdown",
   "source": [
    "### Visualization 5 - Visualize the communities\n",
    "\n",
    "We anticipate seeing the Functionality 5 report in Visualization 5. To be more specific, we expect you to have the following report format:\n",
    "\n",
    "- Print the number of links that should be removed to have the communities\n",
    "- A table depicting the communities and the heroes that belong to each community\n",
    "- Plot the original graph\n",
    "- Plot the graph showing the communities in the network\n",
    "- Plot the final graph and identify the community/communities of Hero_1 and Hero_2\n",
    "\n",
    "__Notes:__\n",
    "\n",
    "- For the final output of your function, please set the Hero_1 to 'Captain America' and Hero_2 to 'Ironman' and show the results\n",
    "- If Hero_1 and Hero_2 belong to the same community, identify that community; otherwise, identify those two communities that these heroes belong to."
   ],
   "metadata": {
    "collapsed": false
   }
  },
  {
   "cell_type": "code",
   "execution_count": null,
   "outputs": [],
   "source": [],
   "metadata": {
    "collapsed": false,
    "pycharm": {
     "is_executing": true
    }
   }
  },
  {
   "cell_type": "markdown",
   "source": [
    "## 4. Command Line Question\n",
    "\n",
    "In this question, you should use any command line tools that you know to answer the following questions using the same datasets that you have been using so far:\n",
    "\n",
    "- What is the most popular pair of heroes (often appearing together in the comics)?\n",
    "- Number of comics per hero.\n",
    "- The average number of heroes in comics.\n",
    "\n",
    "__Note:__ You may work on this question in any environment (AWS, your PC command line, Jupyter notebook, etc.), but the final script must be placed in CommandLine.sh, which must be executable.\n",
    "\n",
    "\n",
    "## 5. Bonus - PageRank on MapReduce\n",
    "\n",
    "__IMPORTANT:__ This is a bonus step, so it's not mandatory. You can get the maximum score also without doing this. We will take this into account, __only if__ the rest of the homework has been completed.\n",
    "\n",
    "1. PageRank and MapReduce go well together, and this synergy was essential for Google's growth and the MapReduce paradigm's proliferation. Therefore, for the bonus section of this homework, we ask that you __implement the PageRank algorithm using the MapReduce paradigm.__\n",
    "\n",
    "Hint: [Here](https://www.cs.utah.edu/~jeffp/teaching/cs5140-S15/cs5140/L24-MR+PR.pdf) are __two approaches__ to implementing the PageRank algorithm using the MapReduce paradigm that you can use as a reference for your bonus part."
   ],
   "metadata": {
    "collapsed": false
   }
  },
  {
   "cell_type": "code",
   "execution_count": null,
   "outputs": [],
   "source": [],
   "metadata": {
    "collapsed": false,
    "pycharm": {
     "is_executing": true
    }
   }
  },
  {
   "cell_type": "markdown",
   "source": [
    "## 6. Algorithmic Question\n",
    "\n",
    "Alex and Sarah have been together for two years, and Alex is now thinking about proposing to her. But, to surprise her, he wants to install an app on her phone that asks her if she will marry him at the right time.\n",
    "\n",
    "However, to install the application secretly, he needs her phone's password, which he does not have. He knows her password is a __poly-line made up of vertical or horizontal line segments__. In a __3*3__ grid, each line segment connects the centres of two cells. Alex learned the direction of each line segment by looking at her hand while unlocking her phone. He didn't pay much attention to the length of each line segment, but he is sure that her phone's operating system __does not allow__ the poly-line __to intersect with itself even at one point.__\n",
    "\n",
    "Alex wants to distract Sarah's attention long enough to test all possible patterns based on the directions of the line segments he has learned. Therefore, he needs you to assist him in calculating how many possible patterns he has to try based on those directions to estimate how much time he needs to check all of those possibilities. Given that the line segments were directed right, down, left, and up, the following figure depicts __two valid__ and __one invalid__ (as the poly-lines should not intersect even in one point) patterns.\n",
    "\n",
    "__Input:__\n",
    "\n",
    "The input is a __single string__ that shows the direction of the segment lines and contains only the characters R, L, U, and D, which correspond to the Right, Left, Up, and Down directions. The string's maximum length is __10__. It is also guaranteed that two consecutive characters will be different.\n",
    "\n",
    "__Ouput:__\n",
    "\n",
    "We expect to see only __1 number__ in the output, corresponding to the number of different patterns that can be generated based on the line segments Alex learned. In some cases, this number __may be 0__, indicating that no patterns can be generated using the learned line segments.\n",
    "\n",
    "#### Examples:\n",
    "\n",
    "__Input 1__\n",
    "\n",
    "`DRU`\n",
    "\n",
    "__Output 1__\n",
    "\n",
    "`15`\n",
    "\n",
    "__Input 2__\n",
    "\n",
    "`R`\n",
    "\n",
    "__Output 2__\n",
    "\n",
    "`9`\n",
    "\n",
    "__Input 3__\n",
    "\n",
    "`LDRDRUL`\n",
    "\n",
    "__Output 3__\n",
    "\n",
    "`0`"
   ],
   "metadata": {
    "collapsed": false
   }
  },
  {
   "cell_type": "code",
   "execution_count": 18,
   "outputs": [],
   "source": [],
   "metadata": {
    "collapsed": false
   }
  }
 ],
 "metadata": {
  "kernelspec": {
   "display_name": "Python 3",
   "language": "python",
   "name": "python3"
  },
  "language_info": {
   "codemirror_mode": {
    "name": "ipython",
    "version": 2
   },
   "file_extension": ".py",
   "mimetype": "text/x-python",
   "name": "python",
   "nbconvert_exporter": "python",
   "pygments_lexer": "ipython2",
   "version": "2.7.6"
  }
 },
 "nbformat": 4,
 "nbformat_minor": 0
}
